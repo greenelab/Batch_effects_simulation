{
 "cells": [
  {
   "cell_type": "markdown",
   "metadata": {},
   "source": [
    "# Test effect of experiments\n",
    "\n",
    "Notebook test the effect of experiments using *P. aeruginosa* gene expression data.\n",
    "\n",
    "**Explain more here**"
   ]
  },
  {
   "cell_type": "code",
   "execution_count": 1,
   "metadata": {},
   "outputs": [
    {
     "name": "stderr",
     "output_type": "stream",
     "text": [
      "Using TensorFlow backend.\n"
     ]
    }
   ],
   "source": [
    "%load_ext autoreload\n",
    "%autoreload 2\n",
    "\n",
    "import os\n",
    "import sys\n",
    "import ast\n",
    "import pandas as pd\n",
    "import numpy as np\n",
    "import random\n",
    "from plotnine import (ggplot,\n",
    "                      labs,  \n",
    "                      geom_line, \n",
    "                      geom_point,\n",
    "                      geom_errorbar,\n",
    "                      aes, \n",
    "                      ggsave, \n",
    "                      theme_bw,\n",
    "                      theme,\n",
    "                      facet_wrap,\n",
    "                      scale_color_manual,\n",
    "                      guides, \n",
    "                      guide_legend,\n",
    "                      element_blank,\n",
    "                      element_text,\n",
    "                      element_rect,\n",
    "                      element_line,\n",
    "                      coords)\n",
    "\n",
    "from sklearn.decomposition import PCA\n",
    "\n",
    "import warnings\n",
    "warnings.filterwarnings(action='ignore')\n",
    "\n",
    "from simulate_expression_compendia_modules import pipeline\n",
    "from ponyo import utils, train_vae_modules\n",
    "\n",
    "from numpy.random import seed\n",
    "randomState = 123\n",
    "seed(randomState)"
   ]
  },
  {
   "cell_type": "code",
   "execution_count": 2,
   "metadata": {},
   "outputs": [],
   "source": [
    "# Read in config variables\n",
    "base_dir = os.path.abspath(os.path.join(os.getcwd(),\"../\"))\n",
    "config_file = os.path.abspath(os.path.join(base_dir,\n",
    "                                           \"configs\", \n",
    "                                           \"config_Pa_test_experiment_effect.tsv\"))\n",
    "params = utils.read_config(config_file)"
   ]
  },
  {
   "cell_type": "code",
   "execution_count": 3,
   "metadata": {},
   "outputs": [],
   "source": [
    "# Load parameters\n",
    "local_dir = params[\"local_dir\"]\n",
    "dataset_name = params['dataset_name']\n",
    "analysis_name = params[\"simulation_type\"]\n",
    "correction_method = params[\"correction_method\"]\n",
    "num_simulated_experiments = params[\"num_simulated_experiments\"]\n",
    "train_architecture = params['NN_architecture']"
   ]
  },
  {
   "cell_type": "code",
   "execution_count": 4,
   "metadata": {},
   "outputs": [],
   "source": [
    "# Input files\n",
    "normalized_processed_data_file = os.path.join(\n",
    "    base_dir,\n",
    "    dataset_name,\n",
    "    \"data\",\n",
    "    \"input\",\n",
    "    \"train_set_normalized_processed.txt.xz\")\n",
    "\n",
    "experiment_id_file = os.path.join(\n",
    "    base_dir, \n",
    "    dataset_name,\n",
    "    \"data\",\n",
    "    \"metadata\", \n",
    "    \"experiment_ids.txt\")\n",
    "\n",
    "metadata_file = os.path.join(\n",
    "    base_dir,\n",
    "    dataset_name,\n",
    "    \"data\",\n",
    "    \"metadata\",\n",
    "    \"sample_annotations.tsv\")"
   ]
  },
  {
   "cell_type": "markdown",
   "metadata": {},
   "source": [
    "## Run simulation experiment"
   ]
  },
  {
   "cell_type": "code",
   "execution_count": 5,
   "metadata": {
    "scrolled": true
   },
   "outputs": [
    {
     "name": "stdout",
     "output_type": "stream",
     "text": [
      "[Parallel(n_jobs=5)]: Using backend LokyBackend with 5 concurrent workers.\n",
      "[Parallel(n_jobs=5)]: Done   1 tasks      | elapsed:   16.7s\n",
      "[Parallel(n_jobs=5)]: Done   2 out of   5 | elapsed:   18.1s remaining:   27.1s\n",
      "[Parallel(n_jobs=5)]: Done   3 out of   5 | elapsed:   18.3s remaining:   12.2s\n",
      "[Parallel(n_jobs=5)]: Done   5 out of   5 | elapsed:   21.0s remaining:    0.0s\n",
      "[Parallel(n_jobs=5)]: Done   5 out of   5 | elapsed:   21.0s finished\n",
      "mean uncorrected svcca scores\n",
      "                         score\n",
      "number of partitions          \n",
      "1                     0.999935\n",
      "2                     0.999709\n",
      "mean corrected svcca scores\n",
      "                         score\n",
      "number of partitions          \n",
      "1                     0.999935\n",
      "2                     0.900514\n",
      "uncorrected confidence interval\n",
      "       ymin      ymax\n",
      "1  0.999911  0.999982\n",
      "2  0.999333  0.999898\n",
      "corrected_confidence interval\n",
      "       ymin      ymax\n",
      "1  0.999911  0.999982\n",
      "2  0.899430  0.902451\n",
      "[Parallel(n_jobs=5)]: Using backend LokyBackend with 5 concurrent workers.\n",
      "[Parallel(n_jobs=5)]: Done   1 tasks      | elapsed:   12.8s\n",
      "[Parallel(n_jobs=5)]: Done   2 out of   5 | elapsed:   14.3s remaining:   21.4s\n",
      "[Parallel(n_jobs=5)]: Done   3 out of   5 | elapsed:   15.8s remaining:   10.5s\n",
      "[Parallel(n_jobs=5)]: Done   5 out of   5 | elapsed:   18.6s remaining:    0.0s\n",
      "[Parallel(n_jobs=5)]: Done   5 out of   5 | elapsed:   18.6s finished\n",
      "mean uncorrected svcca scores\n",
      "                         score\n",
      "number of partitions          \n",
      "1                     0.999959\n",
      "3                     0.998858\n",
      "mean corrected svcca scores\n",
      "                         score\n",
      "number of partitions          \n",
      "1                     0.999959\n",
      "3                     0.806037\n",
      "uncorrected confidence interval\n",
      "       ymin      ymax\n",
      "1  0.999915  0.999987\n",
      "3  0.996754  0.999818\n",
      "corrected_confidence interval\n",
      "       ymin      ymax\n",
      "1  0.999915  0.999987\n",
      "3  0.803547  0.813190\n"
     ]
    }
   ],
   "source": [
    "# Run simulation without correction \n",
    "\n",
    "# Initialize lists to keep track of results to plot\n",
    "mean_uncorrected_scores = []\n",
    "mean_corrected_scores = []\n",
    "ci_uncorrected_min = []\n",
    "ci_uncorrected_max = []\n",
    "ci_corrected_min = []\n",
    "ci_corrected_max = []\n",
    "permuted_uncorrected_scores = []\n",
    "\n",
    "for size_simulated_compendia in num_simulated_experiments:\n",
    "    lst_num_partitions = [1,size_simulated_compendia]\n",
    "    \n",
    "    # Run simulation comparing compendia with `size_simulated_compendia` experiments\n",
    "    # with the same size compendia with `size_simulated_compendia` partitions\n",
    "    corrected=False\n",
    "    (uncorrected_mean_scores,\n",
    "     ci_uncorrected,\n",
    "     permuted_score,\n",
    "     corrected_mean_scores,\n",
    "     ci_corrected) = pipeline.run_experiment_effect_simulation(config_file,\n",
    "                                                               normalized_processed_data_file,\n",
    "                                                               size_simulated_compendia,\n",
    "                                                               lst_num_partitions,\n",
    "                                                               corrected,\n",
    "                                                               experiment_id_file)\n",
    "       \n",
    "    # Run simulation comparing compendia with `size_simulated_compendia` partitions\n",
    "    # with the compendia after applying batch correction for the number of partitions\n",
    "    #corrected=True\n",
    "    #(corrected_mean_score, \n",
    "    # ci_corrected, \n",
    "    # corrected_permuted_score) = pipeline.run_experiment_effect_simulation(config_file,\n",
    "    #                                                                       normalized_processed_data_file,\n",
    "    #                                                                       size_simulated_compendia,\n",
    "    #                                                                       lst_num_partitions,\n",
    "    #                                                                       corrected,\n",
    "    #                                                                       experiment_id_file)\n",
    "    \n",
    "    mean_uncorrected_scores.append(uncorrected_mean_scores.loc[size_simulated_compendia,'score'])\n",
    "    ci_uncorrected_min.append(ci_uncorrected.loc[size_simulated_compendia, 'ymin'])\n",
    "    ci_uncorrected_max.append(ci_uncorrected.loc[size_simulated_compendia, 'ymax'])\n",
    "    permuted_uncorrected_scores.append(permuted_score)\n",
    "    mean_corrected_scores.append(corrected_mean_scores.loc[size_simulated_compendia,'score'])\n",
    "    ci_corrected_min.append(ci_corrected.loc[size_simulated_compendia, 'ymin'])\n",
    "    ci_corrected_max.append(ci_corrected.loc[size_simulated_compendia, 'ymax']) \n",
    "     "
   ]
  },
  {
   "cell_type": "markdown",
   "metadata": {},
   "source": [
    "## Make figures"
   ]
  },
  {
   "cell_type": "code",
   "execution_count": 6,
   "metadata": {},
   "outputs": [],
   "source": [
    "# Output files\n",
    "svcca_file = os.path.join(\n",
    "    base_dir,\n",
    "    dataset_name,\n",
    "    \"results\",\n",
    "    dataset_name +\"_\"+analysis_name+\"_svcca_\"+correction_method+\".svg\")\n",
    "\n",
    "svcca_png_file = os.path.join(\n",
    "    base_dir,\n",
    "    dataset_name,\n",
    "    \"results\",\n",
    "    dataset_name +\"_\"+analysis_name+\"_svcca_\"+correction_method+\".png\")\n",
    "\n",
    "pca_uncorrected_file = os.path.join(\n",
    "    base_dir,\n",
    "    dataset_name,\n",
    "    \"results\",\n",
    "    dataset_name +\"_\"+analysis_name+\"_pca_uncorrected_\"+correction_method+\".svg\")\n",
    "\n",
    "pca_corrected_file = os.path.join(\n",
    "    base_dir,\n",
    "    dataset_name,\n",
    "    \"results\",\n",
    "    dataset_name +\"_\"+analysis_name+\"_pca_corrected_\"+correction_method+\".svg\")"
   ]
  },
  {
   "cell_type": "code",
   "execution_count": 7,
   "metadata": {},
   "outputs": [
    {
     "data": {
      "text/html": [
       "<div>\n",
       "<style scoped>\n",
       "    .dataframe tbody tr th:only-of-type {\n",
       "        vertical-align: middle;\n",
       "    }\n",
       "\n",
       "    .dataframe tbody tr th {\n",
       "        vertical-align: top;\n",
       "    }\n",
       "\n",
       "    .dataframe thead th {\n",
       "        text-align: right;\n",
       "    }\n",
       "</style>\n",
       "<table border=\"1\" class=\"dataframe\">\n",
       "  <thead>\n",
       "    <tr style=\"text-align: right;\">\n",
       "      <th></th>\n",
       "      <th>SVCCA score</th>\n",
       "      <th>ymin</th>\n",
       "      <th>ymax</th>\n",
       "      <th>group</th>\n",
       "    </tr>\n",
       "    <tr>\n",
       "      <th>Compendia size</th>\n",
       "      <th></th>\n",
       "      <th></th>\n",
       "      <th></th>\n",
       "      <th></th>\n",
       "    </tr>\n",
       "  </thead>\n",
       "  <tbody>\n",
       "    <tr>\n",
       "      <th>2</th>\n",
       "      <td>0.999709</td>\n",
       "      <td>0.999333</td>\n",
       "      <td>0.999898</td>\n",
       "      <td>uncorrected</td>\n",
       "    </tr>\n",
       "    <tr>\n",
       "      <th>3</th>\n",
       "      <td>0.998858</td>\n",
       "      <td>0.996754</td>\n",
       "      <td>0.999818</td>\n",
       "      <td>uncorrected</td>\n",
       "    </tr>\n",
       "    <tr>\n",
       "      <th>2</th>\n",
       "      <td>0.900514</td>\n",
       "      <td>0.899430</td>\n",
       "      <td>0.902451</td>\n",
       "      <td>corrected</td>\n",
       "    </tr>\n",
       "    <tr>\n",
       "      <th>3</th>\n",
       "      <td>0.806037</td>\n",
       "      <td>0.803547</td>\n",
       "      <td>0.813190</td>\n",
       "      <td>corrected</td>\n",
       "    </tr>\n",
       "  </tbody>\n",
       "</table>\n",
       "</div>"
      ],
      "text/plain": [
       "                SVCCA score      ymin      ymax        group\n",
       "Compendia size                                              \n",
       "2                  0.999709  0.999333  0.999898  uncorrected\n",
       "3                  0.998858  0.996754  0.999818  uncorrected\n",
       "2                  0.900514  0.899430  0.902451    corrected\n",
       "3                  0.806037  0.803547  0.813190    corrected"
      ]
     },
     "execution_count": 7,
     "metadata": {},
     "output_type": "execute_result"
    }
   ],
   "source": [
    "# Create df\n",
    "uncorrected_df = pd.DataFrame(data={'Compendia size': num_simulated_experiments,\n",
    "                                    'SVCCA score': mean_uncorrected_scores,\n",
    "                                    'ymin': ci_uncorrected_min,\n",
    "                                    'ymax': ci_uncorrected_max,\n",
    "                                    'group': 'uncorrected'\n",
    "                               }).set_index('Compendia size')\n",
    "\n",
    "corrected_df = pd.DataFrame(data={'Compendia size': num_simulated_experiments,\n",
    "                                  'SVCCA score': mean_corrected_scores,\n",
    "                                  'ymin': ci_corrected_min,\n",
    "                                  'ymax': ci_corrected_max,\n",
    "                                  'group': 'corrected'\n",
    "                \n",
    "                               }).set_index('Compendia size')\n",
    "\n",
    "summary_df = pd.concat([uncorrected_df, corrected_df])\n",
    "\n",
    "summary_df.head()"
   ]
  },
  {
   "cell_type": "markdown",
   "metadata": {},
   "source": [
    "### SVCCA "
   ]
  },
  {
   "cell_type": "code",
   "execution_count": 8,
   "metadata": {
    "scrolled": false
   },
   "outputs": [
    {
     "data": {
      "image/png": "[encoded data removed]",
      "text/plain": [
       "<Figure size 640x480 with 1 Axes>"
      ]
     },
     "metadata": {},
     "output_type": "display_data"
    },
    {
     "name": "stdout",
     "output_type": "stream",
     "text": [
      "<ggplot: (8757053884150)>\n"
     ]
    }
   ],
   "source": [
    "# Plot\n",
    "lst_num_partitions = list(summary_df.index)\n",
    "\n",
    "threshold = pd.DataFrame(permuted_uncorrected_scores,\n",
    "                         index=num_simulated_experiments,\n",
    "                         columns=['score'])\n",
    "\n",
    "panel_A = ggplot(summary_df) \\\n",
    "    + geom_line(summary_df,\n",
    "                aes(x=lst_num_partitions, y='SVCCA score', color='group'),\n",
    "                size=1.5) \\\n",
    "    + geom_point(aes(x=lst_num_partitions, y='SVCCA score'), \n",
    "                 color ='darkgrey',\n",
    "                 size=0.5) \\\n",
    "    + geom_errorbar(summary_df,\n",
    "                    aes(x=lst_num_partitions, ymin='ymin', ymax='ymax'),\n",
    "                    color='darkgrey') \\\n",
    "    + geom_line(threshold, \n",
    "                aes(x=num_simulated_experiments, y='score'), \n",
    "                linetype='dashed',\n",
    "                size=1,\n",
    "                color=\"darkgrey\",\n",
    "                show_legend=False) \\\n",
    "    + labs(x = \"Number of Experiments\", \n",
    "           y = \"Similarity score (SVCCA)\", \n",
    "           title = \"Similarity across varying numbers of experiments\") \\\n",
    "    + theme(\n",
    "            plot_background=element_rect(fill=\"white\"),\n",
    "            panel_background=element_rect(fill=\"white\"),\n",
    "            panel_grid_major_x=element_line(color=\"lightgrey\"),\n",
    "            panel_grid_major_y=element_line(color=\"lightgrey\"),\n",
    "            axis_line=element_line(color=\"grey\"),\n",
    "            legend_key=element_rect(fill='white', colour='white'),\n",
    "            legend_title=element_text(family='sans-serif', size=15),\n",
    "            legend_text=element_text(family='sans-serif', size=12),\n",
    "            plot_title=element_text(family='sans-serif', size=15),\n",
    "            axis_text=element_text(family='sans-serif', size=12),\n",
    "            axis_title=element_text(family='sans-serif', size=15)\n",
    "           ) \\\n",
    "    + scale_color_manual(['#1976d2', '#b3e5fc']) \\\n",
    "\n",
    "\n",
    "print(panel_A)\n",
    "ggsave(plot=panel_A, filename=svcca_file, device=\"svg\", dpi=300)\n",
    "ggsave(plot=panel_A, filename=svcca_png_file, device=\"svg\", dpi=300)\n",
    "    "
   ]
  },
  {
   "cell_type": "markdown",
   "metadata": {},
   "source": [
    "### Uncorrected PCA"
   ]
  },
  {
   "cell_type": "code",
   "execution_count": 9,
   "metadata": {},
   "outputs": [],
   "source": [
    "# File directories\n",
    "compendia_dir = os.path.join(\n",
    "    local_dir,\n",
    "    \"partition_simulated\",\n",
    "    dataset_name + \"_\" + analysis_name)"
   ]
  },
  {
   "cell_type": "code",
   "execution_count": 10,
   "metadata": {},
   "outputs": [
    {
     "name": "stdout",
     "output_type": "stream",
     "text": [
      "Plotting PCA of 1 parition vs 3 partition...\n",
      "[0.38281344 0.2312705 ]\n"
     ]
    }
   ],
   "source": [
    "lst_num_partitions_to_plot = [lst_num_partitions[-1]]\n",
    "\n",
    "all_data_df = pd.DataFrame()\n",
    "\n",
    "# Get batch 1 data\n",
    "# This compendia contains all experiments in a single batch\n",
    "# Since we keep overwriting our `Partition_` files we can\n",
    "# only plot a compendia using the last `num_simulated_experiments`\n",
    "partition_1_file = os.path.join(\n",
    "    compendia_dir,\n",
    "    \"Partition_1_0.txt.xz\")\n",
    "\n",
    "partition_1 = pd.read_table(\n",
    "    partition_1_file,\n",
    "    header=0,\n",
    "    index_col=0,\n",
    "    sep='\\t')\n",
    "\n",
    "\n",
    "for i in lst_num_partitions_to_plot:\n",
    "    print('Plotting PCA of 1 parition vs {} partition...'.format(i))\n",
    "    \n",
    "    # Simulated data with all samples in a single batch\n",
    "    original_data_df =  partition_1.copy()\n",
    "    \n",
    "    # Add grouping column for plotting\n",
    "    original_data_df['num_partitions'] = '1'\n",
    "    \n",
    "    # Get data with additional batch effects added\n",
    "    partition_other_file = os.path.join(\n",
    "        compendia_dir,\n",
    "        \"Partition_\"+str(i)+\"_0.txt.xz\")\n",
    "\n",
    "    partition_other = pd.read_table(\n",
    "        partition_other_file,\n",
    "        header=0,\n",
    "        index_col=0,\n",
    "        sep='\\t')\n",
    "    \n",
    "    # Simulated data with i batch effects\n",
    "    partition_data_df =  partition_other\n",
    "    \n",
    "    # Add grouping column for plotting\n",
    "    partition_data_df['num_partitions'] = 'multiple'\n",
    "    \n",
    "    # Concatenate datasets together\n",
    "    combined_data_df = pd.concat([original_data_df, partition_data_df])\n",
    "\n",
    "    # PCA projection\n",
    "    pca = PCA(n_components=2)\n",
    "\n",
    "    # Encode expression data into 2D PCA space\n",
    "    combined_data_numeric_df = combined_data_df.drop(['num_partitions'], axis=1)\n",
    "    combined_data_PCAencoded = pca.fit_transform(combined_data_numeric_df)\n",
    "\n",
    "\n",
    "    combined_data_PCAencoded_df = pd.DataFrame(combined_data_PCAencoded,\n",
    "                                               index=combined_data_df.index,\n",
    "                                               columns=['PC1', 'PC2']\n",
    "                                              )\n",
    "                                              \n",
    "    # Variance explained\n",
    "    print(pca.explained_variance_ratio_)  \n",
    "    \n",
    "    # Add back in batch labels (i.e. labels = \"batch_\"<how many batch effects were added>)\n",
    "    combined_data_PCAencoded_df['num_partitions'] = combined_data_df['num_partitions']\n",
    "    \n",
    "    # Add column that designates which batch effect comparision (i.e. comparison of 1 batch vs 5 batches\n",
    "    # is represented by label = 5)\n",
    "    combined_data_PCAencoded_df['comparison'] = str(i)\n",
    "    \n",
    "    # Concatenate ALL comparisons\n",
    "    all_data_df = pd.concat([all_data_df, combined_data_PCAencoded_df])     "
   ]
  },
  {
   "cell_type": "code",
   "execution_count": 11,
   "metadata": {},
   "outputs": [],
   "source": [
    "# Convert 'num_experiments' into categories to preserve the ordering\n",
    "lst_num_partitions_str = [str(i) for i in lst_num_partitions_to_plot]\n",
    "num_partitions_cat = pd.Categorical(all_data_df['num_partitions'], categories=['1', 'multiple'])\n",
    "\n",
    "# Convert 'comparison' into categories to preserve the ordering\n",
    "comparison_cat = pd.Categorical(all_data_df['comparison'], categories=lst_num_partitions_str)\n",
    "\n",
    "# Assign to a new column in the df\n",
    "all_data_df = all_data_df.assign(num_partitions_cat = num_partitions_cat)\n",
    "all_data_df = all_data_df.assign(comparison_cat = comparison_cat)"
   ]
  },
  {
   "cell_type": "code",
   "execution_count": 12,
   "metadata": {},
   "outputs": [],
   "source": [
    "all_data_df.columns = ['PC1', 'PC2', 'num_partitions', 'comparison', 'No. of partitions', 'Comparison']"
   ]
  },
  {
   "cell_type": "code",
   "execution_count": 13,
   "metadata": {},
   "outputs": [
    {
     "data": {
      "image/png": "[encoded data removed]",
      "text/plain": [
       "<Figure size 640x480 with 1 Axes>"
      ]
     },
     "metadata": {},
     "output_type": "display_data"
    },
    {
     "name": "stdout",
     "output_type": "stream",
     "text": [
      "<ggplot: (8757053595470)>\n"
     ]
    }
   ],
   "source": [
    "# Plot all comparisons in one figure\n",
    "panel_B = ggplot(all_data_df[all_data_df['Comparison'] != '1'],\n",
    "                 aes(x='PC1', y='PC2')) \\\n",
    "    + geom_point(aes(color='No. of partitions'), \n",
    "                 alpha=0.5) \\\n",
    "    + facet_wrap('~Comparison') \\\n",
    "    + labs(x = \"PC 1\", \n",
    "           y = \"PC 2\", \n",
    "           title = \"PCA of partition 1 vs multiple partitions\") \\\n",
    "    + theme_bw() \\\n",
    "    + theme(\n",
    "        legend_title_align = \"center\",\n",
    "        plot_background=element_rect(fill='white'),\n",
    "        legend_key=element_rect(fill='white', colour='white'), \n",
    "        legend_text=element_text(family='sans-serif', size=12),\n",
    "        plot_title=element_text(family='sans-serif', size=15),\n",
    "        axis_text=element_text(family='sans-serif', size=12),\n",
    "        axis_title=element_text(family='sans-serif', size=15)\n",
    "    ) \\\n",
    "    + guides(colour=guide_legend(override_aes={'alpha': 1})) \\\n",
    "    + scale_color_manual(['#bdbdbd', '#b3e5fc']) \\\n",
    "    + geom_point(data=all_data_df[all_data_df['Comparison'] == '1'],\n",
    "                 alpha=0.5, \n",
    "                 color='#bdbdbd')\n",
    "\n",
    "print(panel_B)\n",
    "ggsave(plot=panel_B, filename=pca_uncorrected_file)"
   ]
  },
  {
   "cell_type": "markdown",
   "metadata": {},
   "source": [
    "### Corrected PCA"
   ]
  },
  {
   "cell_type": "code",
   "execution_count": 15,
   "metadata": {},
   "outputs": [
    {
     "name": "stdout",
     "output_type": "stream",
     "text": [
      "Plotting PCA of 1 partition vs 3 partitions...\n"
     ]
    }
   ],
   "source": [
    "lst_num_partitions_to_plot = [lst_num_partitions[-1]]\n",
    "\n",
    "all_corrected_data_df = pd.DataFrame()\n",
    "\n",
    "# Get batch 1 data\n",
    "partition_1_file = os.path.join(\n",
    "    compendia_dir,\n",
    "    \"Partition_corrected_1_0.txt.xz\")\n",
    "\n",
    "partition_1 = pd.read_table(\n",
    "    partition_1_file,\n",
    "    header=0,\n",
    "    index_col=0,\n",
    "    sep='\\t')\n",
    "\n",
    "# Transpose data to df: sample x gene\n",
    "partition_1 = partition_1.T\n",
    "\n",
    "for i in lst_num_partitions_to_plot:\n",
    "    print('Plotting PCA of 1 partition vs {} partitions...'.format(i))\n",
    "    \n",
    "     # Simulated data with all samples in a single batch\n",
    "    original_data_df =  partition_1.copy()\n",
    "    \n",
    "    # Match format of column names in before and after df\n",
    "    original_data_df.columns = original_data_df.columns.astype(str)\n",
    "    \n",
    "    # Add grouping column for plotting\n",
    "    original_data_df['num_partitions'] = '1'\n",
    "    \n",
    "    # Get data with additional batch effects added and corrected\n",
    "    partition_other_file = os.path.join(\n",
    "        compendia_dir,\n",
    "        \"Partition_corrected_\"+str(i)+\"_0.txt.xz\")\n",
    "\n",
    "    partition_other = pd.read_table(\n",
    "        partition_other_file,\n",
    "        header=0,\n",
    "        index_col=0,\n",
    "        sep='\\t')\n",
    "    \n",
    "    # Transpose data to df: sample x gene\n",
    "    partition_other = partition_other.T\n",
    "    \n",
    "    # Simulated data with i batch effects that are corrected\n",
    "    partition_data_df =  partition_other\n",
    "    \n",
    "    # Add grouping column for plotting\n",
    "    partition_data_df['num_partitions'] = 'multiple'\n",
    "    \n",
    "    # Match format of column names in before and after df\n",
    "    partition_data_df.columns = original_data_df.columns.astype(str)\n",
    "        \n",
    "    # Concatenate datasets together\n",
    "    combined_data_df = pd.concat([original_data_df, partition_data_df])\n",
    "    \n",
    "    # PCA projection\n",
    "    pca = PCA(n_components=2)\n",
    "\n",
    "    # Encode expression data into 2D PCA space    \n",
    "    combined_data_numeric_df = combined_data_df.drop(['num_partitions'], axis=1)    \n",
    "    combined_data_PCAencoded = pca.fit_transform(combined_data_numeric_df)\n",
    "\n",
    "    \n",
    "    combined_data_PCAencoded_df = pd.DataFrame(combined_data_PCAencoded,\n",
    "                                               index=combined_data_df.index,\n",
    "                                               columns=['PC1', 'PC2']\n",
    "                                              )\n",
    "    \n",
    "    # Add back in batch labels (i.e. labels = \"batch_\"<how many batch effects were added>)\n",
    "    combined_data_PCAencoded_df['num_partitions'] = combined_data_df['num_partitions']\n",
    "    \n",
    "    # Add column that designates which batch effect comparision (i.e. comparison of 1 batch vs 5 batches\n",
    "    # is represented by label = 5)\n",
    "    combined_data_PCAencoded_df['comparison'] = str(i)\n",
    "    \n",
    "    # Concatenate ALL comparisons\n",
    "    all_corrected_data_df = pd.concat([all_corrected_data_df, combined_data_PCAencoded_df])"
   ]
  },
  {
   "cell_type": "code",
   "execution_count": 16,
   "metadata": {},
   "outputs": [],
   "source": [
    "# Convert 'num_experiments' into categories to preserve the ordering\n",
    "lst_num_partitions_str = [str(i) for i in lst_num_partitions_to_plot]\n",
    "num_partitions_cat = pd.Categorical(all_corrected_data_df['num_partitions'], categories=['1', 'multiple'])\n",
    "\n",
    "# Convert 'comparison' into categories to preserve the ordering\n",
    "comparison_cat = pd.Categorical(all_corrected_data_df['comparison'], categories=lst_num_partitions_str)\n",
    "\n",
    "# Assign to a new column in the df\n",
    "all_corrected_data_df = all_corrected_data_df.assign(num_partitions_cat = num_partitions_cat)\n",
    "all_corrected_data_df = all_corrected_data_df.assign(comparison_cat = comparison_cat)"
   ]
  },
  {
   "cell_type": "code",
   "execution_count": 17,
   "metadata": {},
   "outputs": [],
   "source": [
    "all_corrected_data_df.columns = ['PC1', 'PC2', 'num_partitions', 'comparison', 'No. of partitions', 'Comparison']"
   ]
  },
  {
   "cell_type": "code",
   "execution_count": 18,
   "metadata": {
    "scrolled": false
   },
   "outputs": [
    {
     "data": {
      "image/png": "[encoded data removed]",
      "text/plain": [
       "<Figure size 640x480 with 1 Axes>"
      ]
     },
     "metadata": {},
     "output_type": "display_data"
    },
    {
     "name": "stdout",
     "output_type": "stream",
     "text": [
      "<ggplot: (-9223363279852571655)>\n"
     ]
    }
   ],
   "source": [
    "# Plot all comparisons in one figure\n",
    "panel_C = ggplot(all_corrected_data_df[all_corrected_data_df['Comparison'] != '1'],\n",
    "                 aes(x='PC1', \n",
    "                     y='PC2')) \\\n",
    "    + geom_point(aes(color='No. of partitions'), \n",
    "                 alpha=0.3) \\\n",
    "    + facet_wrap('~Comparison') \\\n",
    "    + labs(x = \"PC 1\", \n",
    "           y = \"PC 2\", \n",
    "           title = \"PCA of partition 1 vs multiple partitions\") \\\n",
    "    + theme_bw() \\\n",
    "    + theme(\n",
    "        legend_title_align = \"center\",\n",
    "        plot_background=element_rect(fill='white'),\n",
    "        legend_key=element_rect(fill='white', colour='white'), \n",
    "        legend_text=element_text(family='sans-serif', size=12),\n",
    "        plot_title=element_text(family='sans-serif', size=15),\n",
    "        axis_text=element_text(family='sans-serif', size=12),\n",
    "        axis_title=element_text(family='sans-serif', size=15)\n",
    "    ) \\\n",
    "    + guides(colour=guide_legend(override_aes={'alpha': 1})) \\\n",
    "    + scale_color_manual(['#bdbdbd', '#1976d2']) \\\n",
    "    + geom_point(data=all_corrected_data_df[all_corrected_data_df['Comparison'] == '1'],\n",
    "                 alpha=0.3, \n",
    "                 color='#bdbdbd')\n",
    "\n",
    "print(panel_C)\n",
    "ggsave(plot=panel_C, filename=pca_corrected_file)"
   ]
  },
  {
   "cell_type": "code",
   "execution_count": null,
   "metadata": {},
   "outputs": [],
   "source": [
    " # Compendium directory\n",
    "compendium_dir = os.path.join(\n",
    "    local_dir, \"experiment_simulated\", \"Pseudomonas_sample_lvl_sim\"\n",
    ")\n",
    "#file = os.path.join(compendium_dir, \"Experiment_corrected_1_0.txt.xz\")\n",
    "file = \"data/input/train_set_normalized_processed.txt.xz\"\n",
    "data = pd.read_csv(file, sep=\"\\t\", index_col=0)\n",
    "\n",
    "data.head(10)"
   ]
  }
 ],
 "metadata": {
  "kernelspec": {
   "display_name": "Python [conda env:simulate_expression_compendia] *",
   "language": "python",
   "name": "conda-env-simulate_expression_compendia-py"
  },
  "language_info": {
   "codemirror_mode": {
    "name": "ipython",
    "version": 3
   },
   "file_extension": ".py",
   "mimetype": "text/x-python",
   "name": "python",
   "nbconvert_exporter": "python",
   "pygments_lexer": "ipython3",
   "version": "3.7.3"
  }
 },
 "nbformat": 4,
 "nbformat_minor": 2
}
